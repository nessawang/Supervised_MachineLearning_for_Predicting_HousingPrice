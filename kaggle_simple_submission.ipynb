{
 "cells": [
  {
   "cell_type": "code",
   "execution_count": null,
   "metadata": {},
   "outputs": [],
   "source": [
    "import seaborn as sns\n",
    "import pandas as pd"
   ]
  },
  {
   "cell_type": "code",
   "execution_count": null,
   "metadata": {},
   "outputs": [],
   "source": [
    "train_df = pd.read_csv('./train.csv')\n",
    "test_df = pd.read_csv('./test.csv')"
   ]
  },
  {
   "cell_type": "code",
   "execution_count": null,
   "metadata": {},
   "outputs": [],
   "source": [
    "train_df.shape"
   ]
  },
  {
   "cell_type": "code",
   "execution_count": null,
   "metadata": {},
   "outputs": [],
   "source": [
    "train_df.head(3)"
   ]
  },
  {
   "cell_type": "code",
   "execution_count": null,
   "metadata": {},
   "outputs": [],
   "source": [
    "test_df.shape"
   ]
  },
  {
   "cell_type": "code",
   "execution_count": null,
   "metadata": {},
   "outputs": [],
   "source": [
    "test_df.head(3)"
   ]
  },
  {
   "cell_type": "code",
   "execution_count": null,
   "metadata": {},
   "outputs": [],
   "source": [
    "train = train_df.copy()\n",
    "X = train.drop(columns=\"Id\", axis= 1)\n",
    "test = test_df.copy()\n",
    "test = test.drop(columns=\"Id\", axis= 1)"
   ]
  },
  {
   "cell_type": "code",
   "execution_count": null,
   "metadata": {},
   "outputs": [],
   "source": [
    "y = X.pop(\"SalePrice\")\n",
    "print(X.shape)\n",
    "print(y.shape)"
   ]
  },
  {
   "cell_type": "code",
   "execution_count": null,
   "metadata": {},
   "outputs": [],
   "source": [
    "from sklearn.model_selection import train_test_split\n",
    "\n",
    "# Split the dataset into train and test sets\n",
    "X_train, X_test, y_train, y_test = train_test_split(X, y, test_size=0.2, random_state=42)"
   ]
  },
  {
   "cell_type": "code",
   "execution_count": null,
   "metadata": {},
   "outputs": [],
   "source": [
    "from sklearn.compose import ColumnTransformer\n",
    "from sklearn.pipeline import make_pipeline\n",
    "from sklearn.impute import SimpleImputer\n",
    "from sklearn.preprocessing import OneHotEncoder\n",
    "\n",
    "# Identify the numerical and categorical columns\n",
    "X_num = X.select_dtypes(include=\"number\").copy().columns\n",
    "X_cat = X.select_dtypes(exclude=\"number\").copy().columns\n",
    "\n",
    "# Create transformers for numerical and categorical features\n",
    "num_transformer = make_pipeline(\n",
    "    SimpleImputer(strategy=\"mean\"))\n",
    "\n",
    "cat_transformer = make_pipeline(\n",
    "    SimpleImputer(strategy=\"constant\", fill_value=\"N_A\"),\n",
    "    OneHotEncoder(drop=\"first\",sparse_output=False,handle_unknown=\"ignore\"))\n",
    "\n",
    "# Create a ColumnTransformer to apply the transformers to the appropriate columns\n",
    "preprocessor = ColumnTransformer(\n",
    "    transformers=[\n",
    "        ('num', num_transformer, X_num),\n",
    "         #name  #pipeline       # list of column label\n",
    "        ('cat', cat_transformer, X_cat)\n",
    "    ])"
   ]
  },
  {
   "cell_type": "code",
   "execution_count": null,
   "metadata": {},
   "outputs": [],
   "source": [
    "preprocessor"
   ]
  },
  {
   "cell_type": "code",
   "execution_count": null,
   "metadata": {},
   "outputs": [],
   "source": [
    "from sklearn.ensemble import RandomForestRegressor"
   ]
  },
  {
   "cell_type": "code",
   "execution_count": null,
   "metadata": {},
   "outputs": [],
   "source": [
    "model = RandomForestRegressor()"
   ]
  },
  {
   "cell_type": "code",
   "execution_count": null,
   "metadata": {},
   "outputs": [],
   "source": [
    "pipeline = make_pipeline(preprocessor,model)"
   ]
  },
  {
   "cell_type": "code",
   "execution_count": null,
   "metadata": {},
   "outputs": [],
   "source": [
    "pipeline.fit(X_train, y_train)"
   ]
  },
  {
   "cell_type": "code",
   "execution_count": null,
   "metadata": {},
   "outputs": [],
   "source": [
    "predition_test = pipeline.predict(X= X_test)\n",
    "#because the model fit the train data, we should use the test data to test how well \n",
    "#the model preformed\n",
    "predition_test"
   ]
  },
  {
   "cell_type": "code",
   "execution_count": null,
   "metadata": {},
   "outputs": [],
   "source": [
    "from sklearn.metrics import r2_score"
   ]
  },
  {
   "cell_type": "code",
   "execution_count": null,
   "metadata": {},
   "outputs": [],
   "source": [
    "performances = r2_score(y_true=y_test, y_pred=predition_test)\n",
    "performances"
   ]
  },
  {
   "cell_type": "code",
   "execution_count": null,
   "metadata": {},
   "outputs": [],
   "source": [
    "## neg_mean_squared_log_error"
   ]
  },
  {
   "attachments": {},
   "cell_type": "markdown",
   "metadata": {},
   "source": [
    "`1st`"
   ]
  },
  {
   "cell_type": "code",
   "execution_count": null,
   "metadata": {},
   "outputs": [],
   "source": [
    "from sklearn.preprocessing import MinMaxScaler\n",
    "from sklearn.feature_selection import VarianceThreshold\n",
    "\n",
    "# Identify the numerical and categorical columns\n",
    "X_num = X.select_dtypes(include=\"number\").copy().columns\n",
    "X_cat = X.select_dtypes(exclude=\"number\").copy().columns\n",
    "\n",
    "# Create transformers for numerical and categorical features\n",
    "num_transformer = make_pipeline(\n",
    "    SimpleImputer(strategy=\"mean\"),\n",
    "    MinMaxScaler())\n",
    "\n",
    "cat_transformer = make_pipeline(\n",
    "    SimpleImputer(strategy=\"constant\", fill_value=\"N_A\"),\n",
    "    OneHotEncoder(drop=\"first\",sparse_output=False,handle_unknown=\"ignore\"))\n",
    "\n",
    "# Create a ColumnTransformer to apply the transformers to the appropriate columns\n",
    "preprocessor = ColumnTransformer(\n",
    "    transformers=[\n",
    "        ('num', num_transformer, X_num),\n",
    "        ('cat', cat_transformer, X_cat)\n",
    "    ])"
   ]
  },
  {
   "cell_type": "code",
   "execution_count": null,
   "metadata": {},
   "outputs": [],
   "source": [
    "from sklearn.feature_selection import SelectFromModel\n",
    "from sklearn.tree import DecisionTreeRegressor\n",
    "from sklearn.neighbors import KNeighborsRegressor\n",
    "from sklearn.feature_selection import SelectKBest, f_regression\n",
    "\n",
    "# Decision tree.\n",
    "tree = make_pipeline(preprocessor,\n",
    "                     VarianceThreshold(),\n",
    "                     SelectKBest(score_func=f_regression, k=40),\n",
    "                     SelectFromModel(DecisionTreeRegressor()),\n",
    "                     DecisionTreeRegressor())\n",
    "\n",
    "tree.fit(X_train, y_train)\n",
    "tree_pred = tree.predict(X = test)\n"
   ]
  },
  {
   "cell_type": "code",
   "execution_count": null,
   "metadata": {},
   "outputs": [],
   "source": [
    "prediction_test = pipeline.predict(X_test)\n",
    "performance = r2_score(y_test, prediction_test)\n",
    "performance"
   ]
  },
  {
   "cell_type": "code",
   "execution_count": null,
   "metadata": {},
   "outputs": [],
   "source": [
    "test_1 = test_df.copy()\n",
    "test_1[\"SalePrice\"] = tree_pred"
   ]
  },
  {
   "cell_type": "code",
   "execution_count": null,
   "metadata": {},
   "outputs": [],
   "source": [
    "submission = test_1[[\"Id\", \"SalePrice\"]]\n",
    "submission"
   ]
  },
  {
   "cell_type": "code",
   "execution_count": null,
   "metadata": {},
   "outputs": [],
   "source": [
    "submission.to_csv(\"submission_1.csv\", index=False)"
   ]
  },
  {
   "attachments": {},
   "cell_type": "markdown",
   "metadata": {},
   "source": [
    "`2nd`"
   ]
  },
  {
   "cell_type": "code",
   "execution_count": null,
   "metadata": {},
   "outputs": [],
   "source": [
    "train = train_df.copy()\n",
    "X = train.drop(columns=\"Id\", axis= 1)\n",
    "y = X.pop(\"SalePrice\")\n",
    "\n",
    "\n",
    "# Split the dataset into train and test sets\n",
    "X_train, X_test, y_train, y_test = train_test_split(X, y, test_size=0.2, random_state=42)"
   ]
  },
  {
   "cell_type": "code",
   "execution_count": null,
   "metadata": {},
   "outputs": [],
   "source": [
    "# Identify the numerical and categorical columns\n",
    "X_num = X.select_dtypes(include=\"number\").copy().columns\n",
    "X_cat = X.select_dtypes(exclude=\"number\").copy().columns\n",
    "\n",
    "# Create transformers for numerical and categorical features\n",
    "num_transformer = make_pipeline(\n",
    "    SimpleImputer(strategy=\"mean\"))\n",
    "\n",
    "cat_transformer = make_pipeline(\n",
    "    SimpleImputer(strategy=\"constant\", fill_value=\"N_A\"),\n",
    "    OneHotEncoder(drop=\"first\",sparse_output=False,handle_unknown=\"ignore\"))\n",
    "\n",
    "# Create a ColumnTransformer to apply the transformers to the appropriate columns\n",
    "preprocessor = ColumnTransformer(\n",
    "    transformers=[\n",
    "        ('num', num_transformer, X_num),\n",
    "        ('cat', cat_transformer, X_cat)\n",
    "    ])\n",
    "\n",
    "# Decision Tree.\n",
    "tree = make_pipeline(preprocessor,\n",
    "                     SelectKBest(score_func=f_regression, k=40),\n",
    "                     SelectFromModel(DecisionTreeRegressor()),\n",
    "                     DecisionTreeRegressor())\n",
    "\n",
    "tree.fit(X_train, y_train)\n",
    "tree_pred = tree.predict(X_test)\n",
    "\n",
    "performance = r2_score(y_test, tree_pred)\n",
    "performance"
   ]
  },
  {
   "cell_type": "code",
   "execution_count": null,
   "metadata": {},
   "outputs": [],
   "source": [
    "#preparing validation dataset\n",
    "test = test_df.copy()\n",
    "test = test.drop(columns=\"Id\", axis= 1)\n",
    "\n",
    "#prediction\n",
    "tree_pred = tree.predict(test)\n",
    "\n",
    "#prepareing for submission\n",
    "test_2 = test_df.copy()\n",
    "test_2[\"SalePrice\"] = tree_pred\n",
    "submission = test_2[[\"Id\", \"SalePrice\"]]\n",
    "submission.to_csv(\"submission_2.csv\", index=False)"
   ]
  },
  {
   "cell_type": "code",
   "execution_count": null,
   "metadata": {},
   "outputs": [],
   "source": [
    "submission"
   ]
  },
  {
   "attachments": {},
   "cell_type": "markdown",
   "metadata": {},
   "source": [
    "`3rd`"
   ]
  },
  {
   "cell_type": "code",
   "execution_count": null,
   "metadata": {},
   "outputs": [],
   "source": [
    "train = train_df.copy()\n",
    "X = train.drop(columns=\"Id\", axis= 1)\n",
    "y = X.pop(\"SalePrice\")\n",
    "\n",
    "\n",
    "# Split the dataset into train and test sets\n",
    "X_train, X_test, y_train, y_test = train_test_split(X, y, test_size=0.2, random_state=42)\n",
    "\n",
    "\n",
    "# Identify the numerical and categorical columns\n",
    "X_num = X.select_dtypes(include=\"number\").copy().columns\n",
    "X_cat = X.select_dtypes(exclude=\"number\").copy().columns\n",
    "\n",
    "# Create transformers for numerical and categorical features\n",
    "num_transformer = make_pipeline(\n",
    "    SimpleImputer(strategy=\"mean\"),\n",
    "    MinMaxScaler())\n",
    "\n",
    "cat_transformer = make_pipeline(\n",
    "    SimpleImputer(strategy=\"constant\", fill_value=\"N_A\"),\n",
    "    OneHotEncoder(drop=\"first\",sparse_output=False,handle_unknown=\"ignore\"))\n",
    "\n",
    "# Create a ColumnTransformer to apply the transformers to the appropriate columns\n",
    "preprocessor = ColumnTransformer(\n",
    "    transformers=[\n",
    "        ('num', num_transformer, X_num),\n",
    "        ('cat', cat_transformer, X_cat)\n",
    "    ])\n",
    "\n",
    "# Decision Tree.\n",
    "tree = make_pipeline(preprocessor,\n",
    "                     SelectFromModel(DecisionTreeRegressor()),\n",
    "                     DecisionTreeRegressor())\n",
    "\n",
    "tree.fit(X_train, y_train)\n",
    "tree_pred = tree.predict(X_test)\n",
    "\n",
    "performance = r2_score(y_test, tree_pred)\n",
    "performance"
   ]
  },
  {
   "cell_type": "code",
   "execution_count": null,
   "metadata": {},
   "outputs": [],
   "source": [
    "from sklearn.metrics import mean_squared_error\n",
    "\n",
    "train_rmse = mean_squared_error(y_train, tree.predict(X_train), squared=False)\n",
    "test_rmse = mean_squared_error(y_test, tree.predict(X_test), squared=False)\n",
    "print(f\"Train RMSE: {train_rmse:.2f}\")\n",
    "print(f\"Test RMSE: {test_rmse:.2f}\")"
   ]
  },
  {
   "cell_type": "code",
   "execution_count": null,
   "metadata": {},
   "outputs": [],
   "source": [
    "#preparing validation dataset\n",
    "test = test_df.copy()\n",
    "test = test.drop(columns=\"Id\", axis= 1)\n",
    "\n",
    "#prediction\n",
    "tree_pred = tree.predict(test)\n",
    "\n",
    "#prepareing for submission\n",
    "test_3 = test_df.copy()\n",
    "test_3[\"SalePrice\"] = tree_pred\n",
    "submission = test_3[[\"Id\", \"SalePrice\"]]\n",
    "submission.to_csv(\"submission_3.csv\", index=False)\n",
    "\n",
    "submission"
   ]
  },
  {
   "attachments": {},
   "cell_type": "markdown",
   "metadata": {},
   "source": [
    "`4th`"
   ]
  },
  {
   "cell_type": "code",
   "execution_count": null,
   "metadata": {},
   "outputs": [],
   "source": [
    "train = train_df.copy()\n",
    "X = train.drop(columns=\"Id\", axis= 1)\n",
    "y = X.pop(\"SalePrice\")\n",
    "\n",
    "\n",
    "# Split the dataset into train and test sets\n",
    "X_train, X_test, y_train, y_test = train_test_split(X, y, test_size=0.2, random_state=42)\n",
    "\n",
    "\n",
    "# Identify the numerical and categorical columns\n",
    "X_num = X.select_dtypes(include=\"number\").copy().columns\n",
    "X_cat = X.select_dtypes(exclude=\"number\").copy().columns\n",
    "\n",
    "# Create transformers for numerical and categorical features\n",
    "num_transformer = make_pipeline(\n",
    "    SimpleImputer(strategy=\"mean\"),\n",
    "    MinMaxScaler())\n",
    "\n",
    "cat_transformer = make_pipeline(\n",
    "    SimpleImputer(strategy=\"constant\", fill_value=\"N_A\"),\n",
    "    OneHotEncoder(drop=\"first\",sparse_output=False,handle_unknown=\"ignore\"))\n",
    "\n",
    "# Create a ColumnTransformer to apply the transformers to the appropriate columns\n",
    "preprocessor = ColumnTransformer(\n",
    "    transformers=[\n",
    "        ('num', num_transformer, X_num),\n",
    "        ('cat', cat_transformer, X_cat)\n",
    "    ])\n",
    "\n",
    "# Decision Tree.\n",
    "tree = make_pipeline(preprocessor,\n",
    "                     SelectFromModel(RandomForestRegressor()),\n",
    "                     DecisionTreeRegressor())\n",
    "\n",
    "tree.fit(X_train, y_train)\n",
    "tree_pred = tree.predict(X_test)\n",
    "\n",
    "# R^2 score\n",
    "performance = r2_score(y_test, tree_pred)\n",
    "print(performance)\n",
    "\n",
    "\n",
    "#RMSE\n",
    "train_rmse = mean_squared_error(y_train, tree.predict(X_train), squared=False)\n",
    "test_rmse = mean_squared_error(y_test, tree.predict(X_test), squared=False)\n",
    "print(f\"Train RMSE: {train_rmse:.2f}\")\n",
    "print(f\"Test RMSE: {test_rmse:.2f}\")"
   ]
  },
  {
   "cell_type": "code",
   "execution_count": null,
   "metadata": {},
   "outputs": [],
   "source": [
    "#preparing validation dataset\n",
    "test = test_df.copy()\n",
    "test = test.drop(columns=\"Id\", axis= 1)\n",
    "\n",
    "#prediction\n",
    "tree_pred = tree.predict(test)\n",
    "\n",
    "#prepareing for submission\n",
    "test_4 = test_df.copy()\n",
    "test_4[\"SalePrice\"] = tree_pred\n",
    "submission = test_4[[\"Id\", \"SalePrice\"]]\n",
    "submission.to_csv(\"submission_4.csv\", index=False)\n",
    "\n",
    "submission"
   ]
  },
  {
   "attachments": {},
   "cell_type": "markdown",
   "metadata": {},
   "source": [
    "`5th`"
   ]
  },
  {
   "cell_type": "code",
   "execution_count": null,
   "metadata": {},
   "outputs": [],
   "source": [
    "from sklearn.ensemble import GradientBoostingRegressor"
   ]
  },
  {
   "cell_type": "code",
   "execution_count": null,
   "metadata": {},
   "outputs": [],
   "source": [
    "train = train_df.copy()\n",
    "X = train.drop(columns=\"Id\", axis= 1)\n",
    "y = X.pop(\"SalePrice\")\n",
    "\n",
    "\n",
    "# Split the dataset into train and test sets\n",
    "X_train, X_test, y_train, y_test = train_test_split(X, y, test_size=0.2, random_state=42)\n",
    "\n",
    "\n",
    "# Identify the numerical and categorical columns\n",
    "X_num = X.select_dtypes(include=\"number\").copy().columns\n",
    "X_cat = X.select_dtypes(exclude=\"number\").copy().columns\n",
    "\n",
    "# Create transformers for numerical and categorical features\n",
    "num_transformer = make_pipeline(\n",
    "    SimpleImputer(strategy=\"mean\"),\n",
    "    MinMaxScaler())\n",
    "\n",
    "cat_transformer = make_pipeline(\n",
    "    SimpleImputer(strategy=\"constant\", fill_value=\"N_A\"),\n",
    "    OneHotEncoder(drop=\"first\",sparse_output=False,handle_unknown=\"ignore\"))\n",
    "\n",
    "# Create a ColumnTransformer to apply the transformers to the appropriate columns\n",
    "preprocessor = ColumnTransformer(\n",
    "    transformers=[\n",
    "        ('num', num_transformer, X_num),\n",
    "        ('cat', cat_transformer, X_cat)\n",
    "    ])\n",
    "\n",
    "# Decision Tree.\n",
    "tree = make_pipeline(preprocessor,\n",
    "                     SelectFromModel(RandomForestRegressor()),\n",
    "                     GradientBoostingRegressor())\n",
    "\n",
    "tree.fit(X_train, y_train)\n",
    "tree_pred = tree.predict(X_test)\n",
    "\n",
    "# R^2 score\n",
    "performance = r2_score(y_test, tree_pred)\n",
    "print(performance)\n",
    "\n",
    "\n",
    "#RMSE\n",
    "train_rmse = mean_squared_error(y_train, tree.predict(X_train), squared=False)\n",
    "test_rmse = mean_squared_error(y_test, tree.predict(X_test), squared=False)\n",
    "print(f\"Train RMSE: {train_rmse:.2f}\")\n",
    "print(f\"Test RMSE: {test_rmse:.2f}\")"
   ]
  },
  {
   "cell_type": "code",
   "execution_count": null,
   "metadata": {},
   "outputs": [],
   "source": [
    "#preparing validation dataset\n",
    "test = test_df.copy()\n",
    "test = test.drop(columns=\"Id\", axis= 1)\n",
    "\n",
    "#prediction\n",
    "tree_pred = tree.predict(test)\n",
    "\n",
    "#prepareing for submission\n",
    "test_5 = test_df.copy()\n",
    "test_5[\"SalePrice\"] = tree_pred\n",
    "submission = test_5[[\"Id\", \"SalePrice\"]]\n",
    "submission.to_csv(\"submission_5.csv\", index=False)\n",
    "\n",
    "submission"
   ]
  },
  {
   "attachments": {},
   "cell_type": "markdown",
   "metadata": {},
   "source": [
    "`6th`"
   ]
  },
  {
   "cell_type": "code",
   "execution_count": null,
   "metadata": {},
   "outputs": [],
   "source": [
    "train = train_df.copy()\n",
    "X = train.drop(columns=\"Id\", axis= 1)\n",
    "y = X.pop(\"SalePrice\")\n",
    "\n",
    "\n",
    "# Split the dataset into train and test sets\n",
    "X_train, X_test, y_train, y_test = train_test_split(X, y, test_size=0.2, random_state=42)\n",
    "\n",
    "\n",
    "# Identify the numerical and categorical columns\n",
    "X_num = X.select_dtypes(include=\"number\").copy().columns\n",
    "X_cat = X.select_dtypes(exclude=\"number\").copy().columns\n",
    "\n",
    "# Create transformers for numerical and categorical features\n",
    "num_transformer = make_pipeline(\n",
    "    SimpleImputer(strategy=\"mean\"),\n",
    "    MinMaxScaler())\n",
    "\n",
    "cat_transformer = make_pipeline(\n",
    "    SimpleImputer(strategy=\"constant\", fill_value=\"N_A\"),\n",
    "    OneHotEncoder(drop=\"first\",sparse_output=False,handle_unknown=\"ignore\"))\n",
    "\n",
    "# Create a ColumnTransformer to apply the transformers to the appropriate columns\n",
    "preprocessor = ColumnTransformer(\n",
    "    transformers=[\n",
    "        ('num', num_transformer, X_num),\n",
    "        ('cat', cat_transformer, X_cat)\n",
    "    ])\n",
    "\n",
    "# Decision Tree.\n",
    "tree = make_pipeline(preprocessor,\n",
    "                     SelectFromModel(GradientBoostingRegressor()),\n",
    "                     RandomForestRegressor())\n",
    "\n",
    "tree.fit(X_train, y_train)\n",
    "tree_pred = tree.predict(X_test)\n",
    "\n",
    "# R^2 score\n",
    "performance = r2_score(y_test, tree_pred)\n",
    "print(performance)\n",
    "\n",
    "\n",
    "#RMSE\n",
    "train_rmse = mean_squared_error(y_train, tree.predict(X_train), squared=False)\n",
    "test_rmse = mean_squared_error(y_test, tree.predict(X_test), squared=False)\n",
    "print(f\"Train RMSE: {train_rmse:.2f}\")\n",
    "print(f\"Test RMSE: {test_rmse:.2f}\")"
   ]
  },
  {
   "cell_type": "code",
   "execution_count": null,
   "metadata": {},
   "outputs": [],
   "source": [
    "#preparing validation dataset\n",
    "test = test_df.copy()\n",
    "test = test.drop(columns=\"Id\", axis= 1)\n",
    "\n",
    "#prediction\n",
    "tree_pred = tree.predict(test)\n",
    "\n",
    "#prepareing for submission\n",
    "test_6 = test_df.copy()\n",
    "test_6[\"SalePrice\"] = tree_pred\n",
    "submission = test_6[[\"Id\", \"SalePrice\"]]\n",
    "submission.to_csv(\"submission_6.csv\", index=False)\n",
    "\n",
    "submission"
   ]
  },
  {
   "attachments": {},
   "cell_type": "markdown",
   "metadata": {},
   "source": [
    "`7th`"
   ]
  },
  {
   "cell_type": "code",
   "execution_count": null,
   "metadata": {},
   "outputs": [],
   "source": [
    "from sklearn.preprocessing import OrdinalEncoder"
   ]
  },
  {
   "cell_type": "code",
   "execution_count": null,
   "metadata": {},
   "outputs": [],
   "source": [
    "train = train_df.copy()\n",
    "X = train.drop(columns=\"Id\", axis= 1)\n",
    "y = X.pop(\"SalePrice\")\n",
    "\n",
    "\n",
    "# Split the dataset into train and test sets\n",
    "X_train, X_test, y_train, y_test = train_test_split(X, y, test_size=0.2, random_state=42)\n",
    "\n",
    "\n",
    "# Identify the numerical and categorical columns\n",
    "X_num = X.select_dtypes(include=\"number\").copy().columns\n",
    "X_cat = X.select_dtypes(exclude=\"number\").copy().columns\n",
    "\n",
    "# Create transformers for numerical features\n",
    "num_transformer = make_pipeline(\n",
    "    SimpleImputer(strategy=\"mean\"),\n",
    "    MinMaxScaler())\n",
    "\n",
    "# Create transformers for categorical features\n",
    "## defining ordinal & onehot columns\n",
    "ordinal_cols = X_cat.columns.get_indexer([\"Cabin\"])\n",
    "onehot_cols = X_cat.columns.get_indexer([\"Sex\", \"Embarked\"])\n",
    "\n",
    "cat_transformer = make_pipeline(\n",
    "    SimpleImputer(strategy=\"constant\", fill_value=\"N_A\"),\n",
    "    OneHotEncoder(drop=\"first\",sparse_output=False,handle_unknown=\"ignore\"))\n",
    "\n",
    "# Create a ColumnTransformer to apply the transformers to the appropriate columns\n",
    "preprocessor = ColumnTransformer(\n",
    "    transformers=[\n",
    "        ('num', num_transformer, X_num),\n",
    "        ('cat', cat_transformer, X_cat)\n",
    "    ])\n",
    "\n",
    "# Decision Tree.\n",
    "tree = make_pipeline(preprocessor,\n",
    "                     VarianceThreshold(),\n",
    "                     #SelectKBest(score_func=f_regression, k=40),\n",
    "                     SelectFromModel(GradientBoostingRegressor()),\n",
    "                     RandomForestRegressor())\n",
    "\n",
    "tree.fit(X_train, y_train)\n",
    "tree_pred = tree.predict(X_test)\n",
    "\n",
    "# R^2 score\n",
    "performance = r2_score(y_test, tree_pred)\n",
    "print(performance)\n",
    "\n",
    "\n",
    "#RMSE\n",
    "train_rmse = mean_squared_error(y_train, tree.predict(X_train), squared=False)\n",
    "test_rmse = mean_squared_error(y_test, tree.predict(X_test), squared=False)\n",
    "print(f\"Train RMSE: {train_rmse:.2f}\")\n",
    "print(f\"Test RMSE: {test_rmse:.2f}\")"
   ]
  }
 ],
 "metadata": {
  "kernelspec": {
   "display_name": "Demo",
   "language": "python",
   "name": "python3"
  },
  "language_info": {
   "codemirror_mode": {
    "name": "ipython",
    "version": 3
   },
   "file_extension": ".py",
   "mimetype": "text/x-python",
   "name": "python",
   "nbconvert_exporter": "python",
   "pygments_lexer": "ipython3",
   "version": "3.9.15"
  },
  "orig_nbformat": 4
 },
 "nbformat": 4,
 "nbformat_minor": 2
}
